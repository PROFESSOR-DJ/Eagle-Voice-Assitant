{
 "cells": [
  {
   "cell_type": "code",
   "execution_count": 1,
   "metadata": {},
   "outputs": [
    {
     "name": "stdout",
     "output_type": "stream",
     "text": [
      "Collecting SpeechRecognition\n",
      "  Downloading SpeechRecognition-3.8.1-py2.py3-none-any.whl (32.8 MB)\n",
      "     ---------------------------------------- 32.8/32.8 MB 1.0 MB/s eta 0:00:00\n",
      "Installing collected packages: SpeechRecognition\n",
      "Successfully installed SpeechRecognition-3.8.1\n",
      "Note: you may need to restart the kernel to use updated packages.\n"
     ]
    },
    {
     "name": "stderr",
     "output_type": "stream",
     "text": [
      "\n",
      "[notice] A new release of pip available: 22.2.2 -> 22.3\n",
      "[notice] To update, run: python.exe -m pip install --upgrade pip\n"
     ]
    }
   ],
   "source": [
    "pip install SpeechRecognition\n"
   ]
  },
  {
   "cell_type": "code",
   "execution_count": 2,
   "metadata": {},
   "outputs": [
    {
     "name": "stdout",
     "output_type": "stream",
     "text": [
      "Collecting pyttsx3\n",
      "  Downloading pyttsx3-2.90-py3-none-any.whl (39 kB)\n",
      "Collecting pypiwin32\n",
      "  Downloading pypiwin32-223-py3-none-any.whl (1.7 kB)\n",
      "Requirement already satisfied: pywin32 in c:\\users\\dhiraaj\\appdata\\roaming\\python\\python310\\site-packages (from pyttsx3) (304)\n",
      "Collecting comtypes\n",
      "  Downloading comtypes-1.1.14-py2.py3-none-any.whl (172 kB)\n",
      "     ------------------------------------ 172.8/172.8 kB 864.4 kB/s eta 0:00:00\n",
      "Installing collected packages: comtypes, pypiwin32, pyttsx3\n",
      "Successfully installed comtypes-1.1.14 pypiwin32-223 pyttsx3-2.90\n",
      "Note: you may need to restart the kernel to use updated packages.\n"
     ]
    },
    {
     "name": "stderr",
     "output_type": "stream",
     "text": [
      "\n",
      "[notice] A new release of pip available: 22.2.2 -> 22.3\n",
      "[notice] To update, run: python.exe -m pip install --upgrade pip\n"
     ]
    }
   ],
   "source": [
    "pip install pyttsx3\n"
   ]
  },
  {
   "cell_type": "code",
   "execution_count": 3,
   "metadata": {},
   "outputs": [
    {
     "name": "stdout",
     "output_type": "stream",
     "text": [
      "Collecting PyAudio\n",
      "  Downloading PyAudio-0.2.12-cp310-cp310-win_amd64.whl (163 kB)\n",
      "     ------------------------------------ 164.0/164.0 kB 492.7 kB/s eta 0:00:00\n",
      "Installing collected packages: PyAudio\n",
      "Successfully installed PyAudio-0.2.12\n",
      "Note: you may need to restart the kernel to use updated packages.\n"
     ]
    },
    {
     "name": "stderr",
     "output_type": "stream",
     "text": [
      "\n",
      "[notice] A new release of pip available: 22.2.2 -> 22.3\n",
      "[notice] To update, run: python.exe -m pip install --upgrade pip\n"
     ]
    }
   ],
   "source": [
    "pip install PyAudio\n"
   ]
  },
  {
   "cell_type": "code",
   "execution_count": 2,
   "metadata": {},
   "outputs": [
    {
     "name": "stdout",
     "output_type": "stream",
     "text": [
      "Collecting pywhatkit\n",
      "  Downloading pywhatkit-5.4-py3-none-any.whl (15 kB)\n",
      "Collecting Pillow\n",
      "  Downloading Pillow-9.2.0-cp310-cp310-win_amd64.whl (3.3 MB)\n",
      "     ---------------------------------------- 3.3/3.3 MB 2.6 MB/s eta 0:00:00\n",
      "Collecting wikipedia\n",
      "  Downloading wikipedia-1.4.0.tar.gz (27 kB)\n",
      "  Preparing metadata (setup.py): started\n",
      "  Preparing metadata (setup.py): finished with status 'done'\n",
      "Collecting pyautogui\n",
      "  Downloading PyAutoGUI-0.9.53.tar.gz (59 kB)\n",
      "     ---------------------------------------- 59.0/59.0 kB 1.6 MB/s eta 0:00:00\n",
      "  Preparing metadata (setup.py): started\n",
      "  Preparing metadata (setup.py): finished with status 'done'\n",
      "Collecting Flask\n",
      "  Downloading Flask-2.2.2-py3-none-any.whl (101 kB)\n",
      "     ------------------------------------ 101.5/101.5 kB 530.4 kB/s eta 0:00:00\n",
      "Requirement already satisfied: requests in c:\\users\\dhiraaj\\appdata\\local\\programs\\python\\python310\\lib\\site-packages (from pywhatkit) (2.26.0)\n",
      "Collecting Werkzeug>=2.2.2\n",
      "  Downloading Werkzeug-2.2.2-py3-none-any.whl (232 kB)\n",
      "     -------------------------------------- 232.7/232.7 kB 1.8 MB/s eta 0:00:00\n",
      "Collecting Jinja2>=3.0\n",
      "  Downloading Jinja2-3.1.2-py3-none-any.whl (133 kB)\n",
      "     -------------------------------------- 133.1/133.1 kB 2.0 MB/s eta 0:00:00\n",
      "Collecting click>=8.0\n",
      "  Downloading click-8.1.3-py3-none-any.whl (96 kB)\n",
      "     ---------------------------------------- 96.6/96.6 kB 2.8 MB/s eta 0:00:00\n",
      "Collecting itsdangerous>=2.0\n",
      "  Downloading itsdangerous-2.1.2-py3-none-any.whl (15 kB)\n",
      "Collecting pymsgbox\n",
      "  Downloading PyMsgBox-1.0.9.tar.gz (18 kB)\n",
      "  Installing build dependencies: started\n",
      "  Installing build dependencies: finished with status 'done'\n",
      "  Getting requirements to build wheel: started\n",
      "  Getting requirements to build wheel: finished with status 'done'\n",
      "  Preparing metadata (pyproject.toml): started\n",
      "  Preparing metadata (pyproject.toml): finished with status 'done'\n",
      "Collecting PyTweening>=1.0.1\n",
      "  Downloading pytweening-1.0.4.tar.gz (14 kB)\n",
      "  Preparing metadata (setup.py): started\n",
      "  Preparing metadata (setup.py): finished with status 'done'\n",
      "Collecting pyscreeze>=0.1.21\n",
      "  Downloading PyScreeze-0.1.28.tar.gz (25 kB)\n",
      "  Installing build dependencies: started\n",
      "  Installing build dependencies: finished with status 'done'\n",
      "  Getting requirements to build wheel: started\n",
      "  Getting requirements to build wheel: finished with status 'done'\n",
      "  Preparing metadata (pyproject.toml): started\n",
      "  Preparing metadata (pyproject.toml): finished with status 'done'\n",
      "Collecting pygetwindow>=0.0.5\n",
      "  Downloading PyGetWindow-0.0.9.tar.gz (9.7 kB)\n",
      "  Preparing metadata (setup.py): started\n",
      "  Preparing metadata (setup.py): finished with status 'done'\n",
      "Collecting mouseinfo\n",
      "  Downloading MouseInfo-0.1.3.tar.gz (10 kB)\n",
      "  Preparing metadata (setup.py): started\n",
      "  Preparing metadata (setup.py): finished with status 'done'\n",
      "Requirement already satisfied: urllib3<1.27,>=1.21.1 in c:\\users\\dhiraaj\\appdata\\local\\programs\\python\\python310\\lib\\site-packages (from requests->pywhatkit) (1.26.12)\n",
      "Requirement already satisfied: idna<4,>=2.5 in c:\\users\\dhiraaj\\appdata\\local\\programs\\python\\python310\\lib\\site-packages (from requests->pywhatkit) (3.4)\n",
      "Requirement already satisfied: charset-normalizer~=2.0.0 in c:\\users\\dhiraaj\\appdata\\local\\programs\\python\\python310\\lib\\site-packages (from requests->pywhatkit) (2.0.12)\n",
      "Requirement already satisfied: certifi>=2017.4.17 in c:\\users\\dhiraaj\\appdata\\local\\programs\\python\\python310\\lib\\site-packages (from requests->pywhatkit) (2022.9.24)\n",
      "Requirement already satisfied: beautifulsoup4 in c:\\users\\dhiraaj\\appdata\\local\\programs\\python\\python310\\lib\\site-packages (from wikipedia->pywhatkit) (4.9.3)\n",
      "Requirement already satisfied: colorama in c:\\users\\dhiraaj\\appdata\\roaming\\python\\python310\\site-packages (from click>=8.0->Flask->pywhatkit) (0.4.5)\n",
      "Collecting MarkupSafe>=2.0\n",
      "  Downloading MarkupSafe-2.1.1-cp310-cp310-win_amd64.whl (17 kB)\n",
      "Collecting pyrect\n",
      "  Downloading PyRect-0.2.0.tar.gz (17 kB)\n",
      "  Preparing metadata (setup.py): started\n",
      "  Preparing metadata (setup.py): finished with status 'done'\n",
      "Requirement already satisfied: soupsieve>1.2 in c:\\users\\dhiraaj\\appdata\\local\\programs\\python\\python310\\lib\\site-packages (from beautifulsoup4->wikipedia->pywhatkit) (2.3.2.post1)\n",
      "Collecting pyperclip\n",
      "  Downloading pyperclip-1.8.2.tar.gz (20 kB)\n",
      "  Preparing metadata (setup.py): started\n",
      "  Preparing metadata (setup.py): finished with status 'done'\n",
      "Using legacy 'setup.py install' for pyautogui, since package 'wheel' is not installed.\n",
      "Using legacy 'setup.py install' for wikipedia, since package 'wheel' is not installed.\n",
      "Using legacy 'setup.py install' for pygetwindow, since package 'wheel' is not installed.\n",
      "Using legacy 'setup.py install' for PyTweening, since package 'wheel' is not installed.\n",
      "Using legacy 'setup.py install' for mouseinfo, since package 'wheel' is not installed.\n",
      "Using legacy 'setup.py install' for pyperclip, since package 'wheel' is not installed.\n",
      "Using legacy 'setup.py install' for pyrect, since package 'wheel' is not installed.\n",
      "Building wheels for collected packages: pyscreeze, pymsgbox\n",
      "  Building wheel for pyscreeze (pyproject.toml): started\n",
      "  Building wheel for pyscreeze (pyproject.toml): finished with status 'done'\n",
      "  Created wheel for pyscreeze: filename=PyScreeze-0.1.28-py3-none-any.whl size=13009 sha256=6845b688a70d0e008186050bb4bbf3f1b786872cc2f52df8d9b338c9b9796cdb\n",
      "  Stored in directory: c:\\users\\dhiraaj\\appdata\\local\\pip\\cache\\wheels\\03\\86\\12\\abd9680f6f63999ec0433afdbca9d26201eae26247bbbfb3a8\n",
      "  Building wheel for pymsgbox (pyproject.toml): started\n",
      "  Building wheel for pymsgbox (pyproject.toml): finished with status 'done'\n",
      "  Created wheel for pymsgbox: filename=PyMsgBox-1.0.9-py3-none-any.whl size=7406 sha256=ebd79ad72c83984735a059d664c604523e0978114e53e8e41d7d535d6c088124\n",
      "  Stored in directory: c:\\users\\dhiraaj\\appdata\\local\\pip\\cache\\wheels\\b9\\6a\\ba\\be2d7d78166ec8018c21d07241dffa54446c09652a267759ae\n",
      "Successfully built pyscreeze pymsgbox\n",
      "Installing collected packages: PyTweening, pyscreeze, pyrect, pyperclip, pymsgbox, pygetwindow, Pillow, mouseinfo, MarkupSafe, itsdangerous, click, wikipedia, Werkzeug, pyautogui, Jinja2, Flask, pywhatkit\n",
      "  Running setup.py install for PyTweening: started\n",
      "  Running setup.py install for PyTweening: finished with status 'done'\n",
      "  Running setup.py install for pyrect: started\n",
      "  Running setup.py install for pyrect: finished with status 'done'\n",
      "  Running setup.py install for pyperclip: started\n",
      "  Running setup.py install for pyperclip: finished with status 'done'\n",
      "  Running setup.py install for pygetwindow: started\n",
      "  Running setup.py install for pygetwindow: finished with status 'done'\n",
      "  Running setup.py install for mouseinfo: started\n",
      "  Running setup.py install for mouseinfo: finished with status 'done'\n",
      "  Running setup.py install for wikipedia: started\n",
      "  Running setup.py install for wikipedia: finished with status 'done'\n",
      "  Running setup.py install for pyautogui: started\n",
      "  Running setup.py install for pyautogui: finished with status 'done'\n",
      "Successfully installed Flask-2.2.2 Jinja2-3.1.2 MarkupSafe-2.1.1 Pillow-9.2.0 PyTweening-1.0.4 Werkzeug-2.2.2 click-8.1.3 itsdangerous-2.1.2 mouseinfo-0.1.3 pyautogui-0.9.53 pygetwindow-0.0.9 pymsgbox-1.0.9 pyperclip-1.8.2 pyrect-0.2.0 pyscreeze-0.1.28 pywhatkit-5.4 wikipedia-1.4.0\n",
      "Note: you may need to restart the kernel to use updated packages.\n"
     ]
    },
    {
     "name": "stderr",
     "output_type": "stream",
     "text": [
      "\n",
      "[notice] A new release of pip available: 22.2.2 -> 22.3\n",
      "[notice] To update, run: python.exe -m pip install --upgrade pip\n"
     ]
    }
   ],
   "source": [
    "pip install pywhatkit"
   ]
  },
  {
   "cell_type": "code",
   "execution_count": 7,
   "metadata": {},
   "outputs": [
    {
     "name": "stdout",
     "output_type": "stream",
     "text": [
      "Requirement already satisfied: wikipedia in c:\\users\\dhiraaj\\appdata\\local\\programs\\python\\python310\\lib\\site-packages (1.4.0)Note: you may need to restart the kernel to use updated packages.\n",
      "\n",
      "Requirement already satisfied: beautifulsoup4 in c:\\users\\dhiraaj\\appdata\\local\\programs\\python\\python310\\lib\\site-packages (from wikipedia) (4.9.3)\n",
      "Requirement already satisfied: requests<3.0.0,>=2.0.0 in c:\\users\\dhiraaj\\appdata\\local\\programs\\python\\python310\\lib\\site-packages (from wikipedia) (2.26.0)\n",
      "Requirement already satisfied: certifi>=2017.4.17 in c:\\users\\dhiraaj\\appdata\\local\\programs\\python\\python310\\lib\\site-packages (from requests<3.0.0,>=2.0.0->wikipedia) (2022.9.24)\n",
      "Requirement already satisfied: idna<4,>=2.5 in c:\\users\\dhiraaj\\appdata\\local\\programs\\python\\python310\\lib\\site-packages (from requests<3.0.0,>=2.0.0->wikipedia) (3.4)\n",
      "Requirement already satisfied: charset-normalizer~=2.0.0 in c:\\users\\dhiraaj\\appdata\\local\\programs\\python\\python310\\lib\\site-packages (from requests<3.0.0,>=2.0.0->wikipedia) (2.0.12)\n",
      "Requirement already satisfied: urllib3<1.27,>=1.21.1 in c:\\users\\dhiraaj\\appdata\\local\\programs\\python\\python310\\lib\\site-packages (from requests<3.0.0,>=2.0.0->wikipedia) (1.26.12)\n",
      "Requirement already satisfied: soupsieve>1.2 in c:\\users\\dhiraaj\\appdata\\local\\programs\\python\\python310\\lib\\site-packages (from beautifulsoup4->wikipedia) (2.3.2.post1)\n"
     ]
    },
    {
     "name": "stderr",
     "output_type": "stream",
     "text": [
      "\n",
      "[notice] A new release of pip available: 22.2.2 -> 22.3\n",
      "[notice] To update, run: python.exe -m pip install --upgrade pip\n"
     ]
    }
   ],
   "source": [
    "pip install wikipedia"
   ]
  },
  {
   "cell_type": "code",
   "execution_count": 8,
   "metadata": {},
   "outputs": [
    {
     "name": "stdout",
     "output_type": "stream",
     "text": [
      "Collecting pyjokes\n",
      "  Downloading pyjokes-0.6.0-py2.py3-none-any.whl (26 kB)\n",
      "Installing collected packages: pyjokes\n",
      "Successfully installed pyjokes-0.6.0\n",
      "Note: you may need to restart the kernel to use updated packages.\n"
     ]
    },
    {
     "name": "stderr",
     "output_type": "stream",
     "text": [
      "\n",
      "[notice] A new release of pip available: 22.2.2 -> 22.3\n",
      "[notice] To update, run: python.exe -m pip install --upgrade pip\n"
     ]
    }
   ],
   "source": [
    "pip install pyjokes"
   ]
  },
  {
   "cell_type": "code",
   "execution_count": 9,
   "metadata": {},
   "outputs": [
    {
     "name": "stdout",
     "output_type": "stream",
     "text": [
      "Collecting news\n",
      "  Downloading news-1.0.zip (786 bytes)\n",
      "  Preparing metadata (setup.py): started\n",
      "  Preparing metadata (setup.py): finished with status 'done'\n",
      "Using legacy 'setup.py install' for news, since package 'wheel' is not installed.\n",
      "Installing collected packages: news\n",
      "  Running setup.py install for news: started\n",
      "  Running setup.py install for news: finished with status 'done'\n",
      "Successfully installed news-1.0\n",
      "Note: you may need to restart the kernel to use updated packages.\n"
     ]
    },
    {
     "name": "stderr",
     "output_type": "stream",
     "text": [
      "\n",
      "[notice] A new release of pip available: 22.2.2 -> 22.3\n",
      "[notice] To update, run: python.exe -m pip install --upgrade pip\n"
     ]
    }
   ],
   "source": [
    "pip install news"
   ]
  },
  {
   "cell_type": "code",
   "execution_count": 1,
   "metadata": {},
   "outputs": [
    {
     "name": "stdout",
     "output_type": "stream",
     "text": [
      "Note: you may need to restart the kernel to use updated packages.\n"
     ]
    },
    {
     "name": "stderr",
     "output_type": "stream",
     "text": [
      "ERROR: Could not find a version that satisfies the requirement tkinter (from versions: none)\n",
      "ERROR: No matching distribution found for tkinter\n",
      "\n",
      "[notice] A new release of pip available: 22.2.2 -> 22.3\n",
      "[notice] To update, run: python.exe -m pip install --upgrade pip\n"
     ]
    }
   ],
   "source": [
    "\n",
    "\n",
    "\n",
    "pip install tkinter"
   ]
  },
  {
   "cell_type": "code",
   "execution_count": 1,
   "metadata": {},
   "outputs": [
    {
     "name": "stdout",
     "output_type": "stream",
     "text": [
      "Collecting GoogleNews\n",
      "  Downloading GoogleNews-1.6.5-py3-none-any.whl (8.0 kB)\n",
      "Requirement already satisfied: beautifulsoup4 in c:\\users\\dhiraaj\\appdata\\local\\programs\\python\\python310\\lib\\site-packages (from GoogleNews) (4.9.3)\n",
      "Requirement already satisfied: python-dateutil in c:\\users\\dhiraaj\\appdata\\roaming\\python\\python310\\site-packages (from GoogleNews) (2.8.2)\n",
      "Collecting dateparser\n",
      "  Downloading dateparser-1.1.2-py2.py3-none-any.whl (290 kB)\n",
      "     -------------------------------------- 290.5/290.5 kB 2.0 MB/s eta 0:00:00\n",
      "Requirement already satisfied: soupsieve>1.2 in c:\\users\\dhiraaj\\appdata\\local\\programs\\python\\python310\\lib\\site-packages (from beautifulsoup4->GoogleNews) (2.3.2.post1)\n",
      "Collecting pytz\n",
      "  Downloading pytz-2022.5-py2.py3-none-any.whl (500 kB)\n",
      "     -------------------------------------- 500.7/500.7 kB 3.5 MB/s eta 0:00:00\n",
      "Collecting tzlocal\n",
      "  Downloading tzlocal-4.2-py3-none-any.whl (19 kB)\n",
      "Collecting regex!=2019.02.19,!=2021.8.27,<2022.3.15\n",
      "  Downloading regex-2022.3.2-cp310-cp310-win_amd64.whl (274 kB)\n",
      "     -------------------------------------- 274.4/274.4 kB 2.4 MB/s eta 0:00:00\n",
      "Requirement already satisfied: six>=1.5 in c:\\users\\dhiraaj\\appdata\\roaming\\python\\python310\\site-packages (from python-dateutil->GoogleNews) (1.16.0)\n",
      "Collecting tzdata\n",
      "  Downloading tzdata-2022.5-py2.py3-none-any.whl (336 kB)\n",
      "     -------------------------------------- 336.7/336.7 kB 1.9 MB/s eta 0:00:00\n",
      "Collecting pytz-deprecation-shim\n",
      "  Downloading pytz_deprecation_shim-0.1.0.post0-py2.py3-none-any.whl (15 kB)\n",
      "Installing collected packages: pytz, tzdata, regex, pytz-deprecation-shim, tzlocal, dateparser, GoogleNews\n",
      "Successfully installed GoogleNews-1.6.5 dateparser-1.1.2 pytz-2022.5 pytz-deprecation-shim-0.1.0.post0 regex-2022.3.2 tzdata-2022.5 tzlocal-4.2\n",
      "Note: you may need to restart the kernel to use updated packages.\n"
     ]
    },
    {
     "name": "stderr",
     "output_type": "stream",
     "text": [
      "\n",
      "[notice] A new release of pip available: 22.2.2 -> 22.3\n",
      "[notice] To update, run: python.exe -m pip install --upgrade pip\n"
     ]
    }
   ],
   "source": [
    "pip install GoogleNews\n"
   ]
  },
  {
   "cell_type": "code",
   "execution_count": null,
   "metadata": {},
   "outputs": [],
   "source": [
    "import speech_recognition as sr\n",
    "import pyttsx3\n",
    "import pywhatkit\n",
    "import datetime\n",
    "import wikipedia\n",
    "import pyjokes\n",
    "from GoogleNews import GoogleNews\n",
    "from tkinter import *\n",
    "from PIL import ImageTk, Image\n",
    "\n",
    "\n",
    "listener = sr.Recognizer()\n",
    "engine = pyttsx3.init()\n",
    "voices = engine.getProperty('voices')\n",
    "engine.setProperty('voice', voices[0].id)\n",
    "googlenews = GoogleNews()\n",
    "def talk(text):\n",
    "    engine.say(text)\n",
    "    engine.runAndWait()\n",
    "\n",
    "def take_command():\n",
    "    try:\n",
    "        with sr.Microphone() as source:\n",
    "            listener.adjust_for_ambient_noise(source, duration = 0.5)\n",
    "            print('listening...')\n",
    "            voice = listener.listen(source)\n",
    "            command = listener.recognize_google(voice)\n",
    "            command = command.lower()\n",
    "            if 'eagle' in command:\n",
    "                command = command.replace('eagle', '')\n",
    "                print(command)\n",
    "                talk(command)\n",
    "    except:\n",
    "        pass\n",
    "    return command\n",
    "\n",
    "class Widget:\n",
    "    def __init__(self):\n",
    "\n",
    "        root = Tk()\n",
    "        root.title(\"Eagle\")\n",
    "        root.geometry('520x320')\n",
    "        img = ImageTk.PhotoImage(Image.open('lena img.jpeg'))\n",
    "        panel = Label(root, image=img)\n",
    "        panel.pack(side = 'right', file = 'both', expand = 'no')\n",
    "        compText = StringVar()\n",
    "        userText = StringVar()\n",
    "\n",
    "        userText.set('Your Virtual Assistant')\n",
    "        userFrame = LabelFrame(root, text=\"Eagle\", font=(\"Railways\", 24, 'bold') )\n",
    "        userFrame.pack(fill='both', expand = 'yes')\n",
    "\n",
    "        top = Message(userFrame, textvariable=userText, bg = 'black', fg = 'white')\n",
    "        top.config(font=(\"Century Gothic\", 15, 'bold'))\n",
    "        top.pack(side='top', fill='both', expand='yes')\n",
    "\n",
    "        btn = Button(root, text='Speak', font=('railways', 10, 'bold'), bg='red', fg='white', voic=self.clicked).pack(fill='x', expand='no')\n",
    "        btn2 = Button(root, text='Close', font=('railways', 10, 'bold'), bg='yellow', fg ='black', voic=root.destroy).pack(fill='x', expand='no')\n",
    "\n",
    "\n",
    "\n",
    "\n",
    "\n",
    "def runPing():\n",
    "    command = take_command()\n",
    "    print(command)\n",
    "    \n",
    "    if 'play' in command:\n",
    "        song = command.replace('play', '')\n",
    "        \n",
    "        talk('playing' + song)\n",
    "        pywhatkit.playonyt(song)\n",
    "\n",
    "    if 'time' in command:\n",
    "        time = datetime.datetime.now().strftime('%I : %M %p')\n",
    "        print(time)\n",
    "        talk('the current time is ' + time)\n",
    "    \n",
    "    if 'what is' in command:\n",
    "        \n",
    "        quer = command.replace('what is ', '')\n",
    "        information = wikipedia.summary(quer, 3)\n",
    "        print(information)\n",
    "        talk(information)\n",
    "\n",
    "    if 'date' in command:\n",
    "        talk(\"I have an headache\")\n",
    "    \n",
    "    if 'are you single' in command:\n",
    "        talk(\"I am in relationship with the internet\")\n",
    "    \n",
    "    if 'jokes' in command:\n",
    "        talk(pyjokes.get_joke())\n",
    "    if 'headlines' in command:\n",
    "        googlenews.get_news('Headlines')\n",
    "        googlenews.result()\n",
    "        tik = googlenews.gettext()\n",
    "        talk(tik[1:5])\n",
    "\n",
    "    if 'india news' in command:\n",
    "        googlenews.get_news('India')\n",
    "        googlenews.result()\n",
    "        ind = googlenews.gettext()\n",
    "        talk(ind[1:5])\n",
    "    if 'world news' in command:\n",
    "        googlenews.get_news('World')\n",
    "        googlenews.result()\n",
    "        earth = googlenews.gettext()\n",
    "        talk(earth[1:5])\n",
    "\n",
    "    if 'tech news' in command:\n",
    "        googlenews.get_news('Technology')\n",
    "        googlenews.result()\n",
    "        chip = googlenews.gettext()\n",
    "        talk(chip[1:5])\n",
    "\n",
    "    if 'sports news' in command:\n",
    "        googlenews.get_news('Sports')\n",
    "        googlenews.result()\n",
    "        ball = googlenews.gettext()\n",
    "        talk(ball[1:5])\n",
    "    if 'entertainment news' in command:\n",
    "        googlenews.get_news('Entertainment')\n",
    "        googlenews.result()\n",
    "        tv = googlenews.gettext()\n",
    "        talk(tv[1:5])\n",
    "\n",
    "    if 'local news' in command:\n",
    "        googlenews.get_news('Your local news')\n",
    "        googlenews.result()\n",
    "        location = googlenews.gettext()\n",
    "        talk(location[1:5])\n",
    "\n",
    "    if 'business news' in command:\n",
    "        googlenews.get_news('Business')\n",
    "        googlenews.result()\n",
    "        money = googlenews.gettext()\n",
    "        talk(money[1:5])\n",
    "\n",
    "    if 'health news' in command:\n",
    "        googlenews.get_news('Health')\n",
    "        googlenews.result()\n",
    "        tablet = googlenews.gettext()\n",
    "        talk(tablet[1:5])\n",
    "    if 'exit' in command:\n",
    "        talk('have a good day!')\n",
    "        exit()\n",
    "    \n",
    "\n",
    "\n",
    "    else:\n",
    "        talk('please say it again')\n",
    "\n",
    "\n",
    "\n",
    "\n",
    "\n",
    "while True:\n",
    "    runPing()"
   ]
  }
 ],
 "metadata": {
  "kernelspec": {
   "display_name": "Python 3.10.7 64-bit",
   "language": "python",
   "name": "python3"
  },
  "language_info": {
   "codemirror_mode": {
    "name": "ipython",
    "version": 3
   },
   "file_extension": ".py",
   "mimetype": "text/x-python",
   "name": "python",
   "nbconvert_exporter": "python",
   "pygments_lexer": "ipython3",
   "version": "3.10.7"
  },
  "orig_nbformat": 4,
  "vscode": {
   "interpreter": {
    "hash": "369f2c481f4da34e4445cda3fffd2e751bd1c4d706f27375911949ba6bb62e1c"
   }
  }
 },
 "nbformat": 4,
 "nbformat_minor": 2
}
